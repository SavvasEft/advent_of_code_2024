{
 "cells": [
  {
   "cell_type": "code",
   "execution_count": 1,
   "metadata": {},
   "outputs": [],
   "source": [
    "import sys\n",
    "import os\n",
    "import copy\n",
    "\n",
    "import numpy as np \n",
    "\n",
    "current_dir = os.getcwd()\n",
    "parent_dir = os.path.dirname(current_dir)\n",
    "if parent_dir not in sys.path:\n",
    "    sys.path.insert(0, parent_dir)\n",
    "\n",
    "from get_data import get_data_from_url\n",
    "url = 'https://adventofcode.com/2024/day/9/input'\n",
    "\n",
    "raw_data = get_data_from_url(url)"
   ]
  },
  {
   "cell_type": "code",
   "execution_count": 2,
   "metadata": {},
   "outputs": [],
   "source": [
    "file_nums_list=[]\n",
    "free_space_nums=[]\n",
    "raw_decrypted = []\n",
    "for i,number in enumerate(raw_data[:-1]):\n",
    "    if i%2 ==0:\n",
    "        id = int(i/2)\n",
    "        raw_decrypted+=[id]*int(number)\n",
    "    else:\n",
    "        raw_decrypted+=['.']*int(number)"
   ]
  },
  {
   "cell_type": "code",
   "execution_count": 5,
   "metadata": {},
   "outputs": [],
   "source": [
    "\n",
    "\n",
    "def get_index_of_last_number_in_list(raw_list):\n",
    "    for i in range (len(raw_list)-1,-1,-1):\n",
    "        if raw_list[i] != '.':\n",
    "            return i\n",
    "    return None\n",
    "\n",
    "\n",
    "def move_block_index_to_another_index(raw_list,block_index,another_index):\n",
    "    raw_list[another_index]=raw_list[block_index]\n",
    "    raw_list[block_index]='.'\n",
    "    return None\n",
    "\n"
   ]
  },
  {
   "cell_type": "code",
   "execution_count": 6,
   "metadata": {},
   "outputs": [],
   "source": [
    "first_empty_index = raw_decrypted.index('.')\n",
    "last_file_block = get_index_of_last_number_in_list(raw_decrypted)\n",
    "\n",
    "while first_empty_index < last_file_block:\n",
    "    move_block_index_to_another_index(raw_decrypted,last_file_block,first_empty_index)    \n",
    "    first_empty_index = raw_decrypted.index('.')\n",
    "    last_file_block = get_index_of_last_number_in_list(raw_decrypted)\n"
   ]
  },
  {
   "cell_type": "code",
   "execution_count": 12,
   "metadata": {},
   "outputs": [
    {
     "data": {
      "text/plain": [
       "[0, 0, 9999, 9999, 1, 1, 1, 1, 1, 9999]"
      ]
     },
     "execution_count": 12,
     "metadata": {},
     "output_type": "execute_result"
    }
   ],
   "source": [
    "raw_decrypted[:10]"
   ]
  },
  {
   "cell_type": "code",
   "execution_count": 13,
   "metadata": {},
   "outputs": [],
   "source": [
    "total_sum = 0\n",
    "first_empty_index = raw_decrypted.index('.')\n",
    "for i,num in enumerate(raw_decrypted):\n",
    "    if i < first_empty_index:\n",
    "        total_sum+= i*num\n",
    "    else:\n",
    "        break"
   ]
  },
  {
   "cell_type": "code",
   "execution_count": 14,
   "metadata": {},
   "outputs": [
    {
     "data": {
      "text/plain": [
       "6471961544878"
      ]
     },
     "execution_count": 14,
     "metadata": {},
     "output_type": "execute_result"
    }
   ],
   "source": [
    "total_sum"
   ]
  },
  {
   "cell_type": "code",
   "execution_count": null,
   "metadata": {},
   "outputs": [],
   "source": []
  }
 ],
 "metadata": {
  "kernelspec": {
   "display_name": "Python 3",
   "language": "python",
   "name": "python3"
  },
  "language_info": {
   "codemirror_mode": {
    "name": "ipython",
    "version": 3
   },
   "file_extension": ".py",
   "mimetype": "text/x-python",
   "name": "python",
   "nbconvert_exporter": "python",
   "pygments_lexer": "ipython3",
   "version": "3.9.6"
  }
 },
 "nbformat": 4,
 "nbformat_minor": 2
}
