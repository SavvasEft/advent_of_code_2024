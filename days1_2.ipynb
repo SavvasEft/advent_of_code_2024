{
 "cells": [
  {
   "cell_type": "code",
   "execution_count": 1,
   "metadata": {},
   "outputs": [],
   "source": [
    "# get data\n",
    "\n",
    "import requests\n",
    "import sys\n",
    "import os\n",
    "\n",
    "current_dir = os.getcwd()\n",
    "parent_dir = os.path.dirname(current_dir)\n",
    "if parent_dir not in sys.path:\n",
    "    sys.path.insert(0, parent_dir)\n",
    "\n",
    "from page_session import session\n",
    "\n",
    "url = 'https://adventofcode.com/2024/day/1/input'\n",
    "cookies = {'session': session}\n",
    "\n",
    "response = requests.get(url, cookies=cookies)\n",
    "\n",
    "if response.status_code == 200:\n",
    "    input_data = response.text\n",
    "    #print(input_data)\n",
    "else:\n",
    "    print(f\"Failed to retrieve data. Status code: {response.status_code}\")"
   ]
  },
  {
   "cell_type": "code",
   "execution_count": 2,
   "metadata": {},
   "outputs": [],
   "source": [
    "# Split the input data into lines and then into columns\n",
    "lines = input_data.strip().split('\\n')\n",
    "data = [line.split() for line in lines]\n",
    "\n",
    "# Unpack the data into two columns\n",
    "column1, column2 = zip(*data)\n",
    "\n",
    "column1 = [int(num) for num in column1]\n",
    "column2 = [int(num) for num in column2]\n",
    "column1.sort()\n",
    "column2.sort()\n"
   ]
  },
  {
   "cell_type": "code",
   "execution_count": 3,
   "metadata": {},
   "outputs": [
    {
     "data": {
      "text/plain": [
       "3569916"
      ]
     },
     "execution_count": 3,
     "metadata": {},
     "output_type": "execute_result"
    }
   ],
   "source": [
    "#Challenge1:\n",
    "dist = 0\n",
    "for i in range (len(column1)):\n",
    "    dist = dist + abs(column1[i]-column2[i])\n",
    "dist"
   ]
  },
  {
   "cell_type": "code",
   "execution_count": 4,
   "metadata": {},
   "outputs": [
    {
     "data": {
      "text/plain": [
       "26407426"
      ]
     },
     "execution_count": 4,
     "metadata": {},
     "output_type": "execute_result"
    }
   ],
   "source": [
    "#https://adventofcode.com/2024/day/1#part2\n",
    "similarity_score=0\n",
    "for number in column1:\n",
    "    similarity_score += number*column2.count(number)\n",
    "similarity_score"
   ]
  },
  {
   "cell_type": "code",
   "execution_count": 5,
   "metadata": {},
   "outputs": [],
   "source": [
    "##Day 2:\n",
    "day2_url = 'https://adventofcode.com/2024/day/2/input'\n",
    "response = requests.get(day2_url, cookies=cookies)\n",
    "\n",
    "if response.status_code == 200:\n",
    "    input_data2 = response.text\n",
    "    #print(input_data)\n",
    "else:\n",
    "    print(f\"Failed to retrieve data. Status code: {response.status_code}\")\n",
    "    \n",
    "# Split the input data into lines and then into columns\n",
    "lines = input_data2.strip().split('\\n')\n",
    "all_reports = [line.split() for line in lines]\n",
    "num_reports = []\n",
    "for report in all_reports:\n",
    "    num_reports += [[int(num) for num in report]]"
   ]
  },
  {
   "cell_type": "code",
   "execution_count": 6,
   "metadata": {},
   "outputs": [
    {
     "data": {
      "text/plain": [
       "626"
      ]
     },
     "execution_count": 6,
     "metadata": {},
     "output_type": "execute_result"
    }
   ],
   "source": [
    "def all_increasing(report):\n",
    "    cond1 = True\n",
    "    for i in range(0,len(report)-1):\n",
    "        if report[i]<report[i+1] and cond1 is True:\n",
    "            cond1 = True\n",
    "        else: cond1 = False\n",
    "    return cond1\n",
    "\n",
    "def all_decreasing(report):\n",
    "    cond1 = True\n",
    "    for i in range(0,len(report)-1):\n",
    "        if report[i]>report[i+1] and cond1 is True:\n",
    "            cond1 = True\n",
    "        else: cond1 = False\n",
    "    return cond1\n",
    "\n",
    "def diff_is_atleast_1_atmost_3(report):\n",
    "    cond2 = True\n",
    "    for i in range(0,len(report)-1):\n",
    "        if abs(report[i]-report[i+1])>0 and  \\\n",
    "           abs(report[i]-report[i+1])<4 and   \\\n",
    "           cond2 is True:\n",
    "            cond2 = True\n",
    "        else:\n",
    "            cond2 = False\n",
    "    return cond2\n",
    "\n",
    "def report_is_safe(report):\n",
    "    safe = (all_increasing(report) or all_decreasing(report)) and  \\\n",
    "            diff_is_atleast_1_atmost_3(report)\n",
    "    return safe\n",
    "\n",
    "# def report_is_not_monotonous(report):\n",
    "#     monotonous = True \n",
    "#     if (not all_increasing(report)):\n",
    "#         monotonous = False\n",
    "#     return not monotonous\n",
    "\n",
    "\n",
    "# def find_monotonous_error_index(report):\n",
    "#     decr_ind = []\n",
    "#     incr_ind = []\n",
    "#     same_ind = []\n",
    "#     for i in range (0,len(report)-1):\n",
    "#         if ((report[i]-report[i+1])>0):\n",
    "#             decr_ind += [i+1]\n",
    "#         elif ((report[i]-report[i+1])<0):\n",
    "#             incr_ind += [i+1]\n",
    "#         elif ((report[i]==report[i+1])):\n",
    "#             same_ind += [i+1]\n",
    "\n",
    "#     if (len(incr_ind)==1):\n",
    "#         return incr_ind[0]\n",
    "#     elif (len(decr_ind)==1):\n",
    "#         return decr_ind[0]\n",
    "#     elif (len(same_ind)==1):\n",
    "#         return same_ind[0]\n",
    "#     else:\n",
    "#         return None\n",
    "\n",
    "\n",
    "# def get_problematic_index(report):\n",
    "#     decr = 0\n",
    "#     decr_ind = []\n",
    "#     incr = 0\n",
    "#     incr_ind = []\n",
    "#     diff = 0\n",
    "#     diff_ind = []\n",
    "#     for i in range (0,len(report)-1):\n",
    "#         if ((report[i]-report[i+1])>0) and ((report[i]-report[i+1])<4):\n",
    "#             decr+=1\n",
    "#             decr_ind += [i+1]\n",
    "#         elif ((report[i]-report[i+1])<0) and ((report[i]-report[i+1])>-4):\n",
    "#             incr+=1\n",
    "#             incr_ind += [i+1]\n",
    "#         elif (abs(report[i]-report[i+1])>3) or (report[i]==report[i+1]) :\n",
    "#             diff+=1\n",
    "#             diff_ind += [i+1]\n",
    "#     if (len(incr_ind)==1):\n",
    "#         return incr_ind[0]\n",
    "#     elif (len(decr_ind)==1):\n",
    "#         return decr_ind[0]\n",
    "#     elif (len(diff_ind)==1):\n",
    "#         return diff_ind[0]\n",
    "#     else:\n",
    "#         return None\n",
    "    \n",
    "# def find_larger_than_3_less_than_1_indices(report):\n",
    "#     probs_ind = []\n",
    "#     for i in range(0,len(report)-1):\n",
    "#         if (abs(report[i]-report[i+1])>3) or (report[i]==report[i+1]):\n",
    "#             probs_ind += [i]\n",
    "#     return probs_ind\n",
    "\n",
    "def find_safe_reports_v03(num_reports):\n",
    "    num_of_safe_reports = 0\n",
    "    for report in num_reports:\n",
    "        if report_is_safe(report):\n",
    "            num_of_safe_reports +=1\n",
    "        else:\n",
    "            rep_corrections = 0\n",
    "            for i in range (0,len(report)):\n",
    "                cloned_report = report.copy()\n",
    "                cloned_report.pop(i)\n",
    "                if report_is_safe(cloned_report):\n",
    "                    rep_corrections +=1\n",
    "            if rep_corrections>0:    \n",
    "                num_of_safe_reports +=1\n",
    "    return num_of_safe_reports\n",
    "\n",
    "find_safe_reports_v03(num_reports)"
   ]
  },
  {
   "cell_type": "markdown",
   "metadata": {},
   "source": [
    "# Day 3"
   ]
  },
  {
   "cell_type": "code",
   "execution_count": null,
   "metadata": {},
   "outputs": [],
   "source": [
    "url = 'https://adventofcode.com/2024/day/1/input'\n",
    "cookies = {'session': session}\n",
    "\n",
    "response = requests.get(url, cookies=cookies)\n",
    "\n",
    "if response.status_code == 200:\n",
    "    input_data = response.text\n",
    "    #print(input_data)\n",
    "else:\n",
    "    print(f\"Failed to retrieve data. Status code: {response.status_code}\")"
   ]
  }
 ],
 "metadata": {
  "kernelspec": {
   "display_name": "Python 3",
   "language": "python",
   "name": "python3"
  },
  "language_info": {
   "codemirror_mode": {
    "name": "ipython",
    "version": 3
   },
   "file_extension": ".py",
   "mimetype": "text/x-python",
   "name": "python",
   "nbconvert_exporter": "python",
   "pygments_lexer": "ipython3",
   "version": "3.9.6"
  }
 },
 "nbformat": 4,
 "nbformat_minor": 2
}
