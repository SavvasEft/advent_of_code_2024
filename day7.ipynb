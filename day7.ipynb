{
 "cells": [
  {
   "cell_type": "code",
   "execution_count": 3,
   "metadata": {},
   "outputs": [],
   "source": [
    "import sys\n",
    "import os\n",
    "import copy\n",
    "\n",
    "current_dir = os.getcwd()\n",
    "parent_dir = os.path.dirname(current_dir)\n",
    "if parent_dir not in sys.path:\n",
    "    sys.path.insert(0, parent_dir)\n",
    "\n",
    "from get_data import get_data_from_url\n",
    "url = 'https://adventofcode.com/2024/day/7/input'\n",
    "\n",
    "raw_data = get_data_from_url(url)\n",
    "raw_data_list_of_strings = raw_data.splitlines()\n",
    "raw_data_list_of_lists = [a_string.split(' ') for a_string in raw_data_list_of_strings]\n",
    "for a_string in raw_data_list_of_lists:\n",
    "    a_string[0] = a_string[0][:-1]\n",
    "    for i,numeric_string in enumerate(a_string):\n",
    "        a_string[i] = int(a_string[i])\n",
    "\n",
    "\n",
    "answers = [answer[0] for answer in raw_data_list_of_lists]\n",
    "nums = [answer[1:] for answer in raw_data_list_of_lists]"
   ]
  },
  {
   "cell_type": "code",
   "execution_count": 4,
   "metadata": {},
   "outputs": [
    {
     "data": {
      "text/plain": [
       "248427118972289"
      ]
     },
     "execution_count": 4,
     "metadata": {},
     "output_type": "execute_result"
    }
   ],
   "source": [
    "from itertools import product\n",
    "\n",
    "def add_(a,b):\n",
    "    return a+b\n",
    "\n",
    "def mul_(a,b):\n",
    "    return a*b\n",
    "\n",
    "\n",
    "def concaten_(a,b):\n",
    "    a_str = str(a)\n",
    "    b_str = str(b)\n",
    "    c_int = int(a_str+b_str)\n",
    "    return c_int   \n",
    "\n",
    "op_list = ['+', '*', '||']\n",
    "\n",
    "op_dic = {'+':add_,\n",
    "          '*':mul_,\n",
    "          '||':concaten_}\n",
    "\n",
    "def get_all_op_combinations(list_length):\n",
    "    num_of_operators = list_length-1\n",
    "    #for a part: \n",
    "    # return list(product(['+', '*', '||' ], repeat=num_of_operators))\n",
    "    return list(product(['+', '*', '||' ], repeat=num_of_operators))\n",
    "\n",
    "def perform_function_between_elements_and_op_list(a_list, op_list):\n",
    "    b_list = a_list[1:]\n",
    "    for i, op in enumerate(op_list):\n",
    "        result = op_dic[op](a_list[0], a_list[1])\n",
    "        b_list[0]=result\n",
    "        if len(b_list)==1:\n",
    "            return b_list[0]\n",
    "        b_op_list = op_list[1:]\n",
    "        return perform_function_between_elements_and_op_list(b_list,b_op_list)\n",
    "\n",
    "\n",
    "total_num_of_correct_lists = 0\n",
    "for i,num_list in enumerate(nums):\n",
    "    correct = False\n",
    "    list_length = len(num_list)\n",
    "    all_op_combinations = get_all_op_combinations(list_length)\n",
    "\n",
    "    for op_combination in all_op_combinations:\n",
    "        if perform_function_between_elements_and_op_list(num_list,op_combination)==answers[i]:\n",
    "            correct = True\n",
    "    if correct: \n",
    "        total_num_of_correct_lists+=answers[i]\n",
    "        \n",
    "total_num_of_correct_lists\n",
    "        "
   ]
  },
  {
   "cell_type": "code",
   "execution_count": 1,
   "metadata": {},
   "outputs": [
    {
     "data": {
      "text/plain": [
       "'abxasd'"
      ]
     },
     "execution_count": 1,
     "metadata": {},
     "output_type": "execute_result"
    }
   ],
   "source": [
    "'abx'+'asd'"
   ]
  },
  {
   "cell_type": "code",
   "execution_count": null,
   "metadata": {},
   "outputs": [],
   "source": []
  }
 ],
 "metadata": {
  "kernelspec": {
   "display_name": "Python 3",
   "language": "python",
   "name": "python3"
  },
  "language_info": {
   "codemirror_mode": {
    "name": "ipython",
    "version": 3
   },
   "file_extension": ".py",
   "mimetype": "text/x-python",
   "name": "python",
   "nbconvert_exporter": "python",
   "pygments_lexer": "ipython3",
   "version": "3.9.6"
  }
 },
 "nbformat": 4,
 "nbformat_minor": 2
}
