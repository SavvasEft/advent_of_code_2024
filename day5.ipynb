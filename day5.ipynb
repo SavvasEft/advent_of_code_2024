{
 "cells": [
  {
   "cell_type": "code",
   "execution_count": 1,
   "metadata": {},
   "outputs": [],
   "source": [
    "import sys\n",
    "import os\n",
    "\n",
    "current_dir = os.getcwd()\n",
    "parent_dir = os.path.dirname(current_dir)\n",
    "if parent_dir not in sys.path:\n",
    "    sys.path.insert(0, parent_dir)\n",
    "\n",
    "from get_data import get_data_from_url\n",
    "url = 'https://adventofcode.com/2024/day/5/input'\n",
    "\n",
    "raw_data = get_data_from_url(url)\n",
    "raw_data_lines = raw_data.splitlines()"
   ]
  },
  {
   "cell_type": "code",
   "execution_count": 2,
   "metadata": {},
   "outputs": [
    {
     "name": "stdout",
     "output_type": "stream",
     "text": [
      "['69|42', '95|73', '95|53', '18|16', '18|68']\n",
      "['33,53,78,14,77,82,32,49,39', '78,65,91,95,81,53,24,48,14,67,25,44,37,75,61,87,31,64,73', '56,96,45,41,49,72,36,73,68,42,29,62,34,16,33,69,66,32,77', '47,67,25,44,17,37,94,61,87,31,18,73,66,72,45,36,56,52,34,96,69', '95,23,48,14,67,75,87,73,45']\n"
     ]
    }
   ],
   "source": [
    "print (raw_data_lines[0:5])\n",
    "print (raw_data_lines[-5:])"
   ]
  },
  {
   "cell_type": "code",
   "execution_count": 3,
   "metadata": {},
   "outputs": [],
   "source": [
    "rules = []\n",
    "print_orders = []\n",
    "for line in raw_data_lines:\n",
    "    if '|' in line:\n",
    "        rules += [line]\n",
    "    elif len(line)>2:\n",
    "        print_orders += [line.split(',')]"
   ]
  },
  {
   "cell_type": "code",
   "execution_count": 4,
   "metadata": {},
   "outputs": [
    {
     "data": {
      "text/plain": [
       "['19', '33', '92', '65', '48']"
      ]
     },
     "execution_count": 4,
     "metadata": {},
     "output_type": "execute_result"
    }
   ],
   "source": [
    "print_orders[5]"
   ]
  },
  {
   "cell_type": "code",
   "execution_count": 5,
   "metadata": {},
   "outputs": [],
   "source": [
    "for line in rules: \n",
    "    if len(line)!=5:\n",
    "        print(line)       \n",
    "# prints nothing, so all lines have 5 characters\n",
    "\n",
    "for line in rules: \n",
    "    if '|' != line[2]:\n",
    "        print(line)\n",
    "# prints nothing, so all lines have the format: \n",
    "#   -> (2-digit number)|(2-digit number)"
   ]
  },
  {
   "cell_type": "code",
   "execution_count": 6,
   "metadata": {},
   "outputs": [],
   "source": [
    "# create a dictionary with all the page_no after the |\n",
    "pages_needing_another_page_first = []\n",
    "for line in rules: \n",
    "    pages_needing_another_page_first += [int(line[3:5])]\n",
    "pages_needing_another_page_first = list(set(pages_needing_another_page_first))\n",
    "pages_needing_another_page_first\n",
    "\n",
    "\n",
    "rules_dict = {}\n",
    "for page in pages_needing_another_page_first:\n",
    "    rules_dict[str(page)] = []\n",
    "    \n",
    "for line in rules:\n",
    "    rules_dict[str(line[3:5])]+=[line[0:2]]\n"
   ]
  },
  {
   "cell_type": "code",
   "execution_count": 7,
   "metadata": {},
   "outputs": [
    {
     "data": {
      "text/plain": [
       "['18',\n",
       " '16',\n",
       " '72',\n",
       " '57',\n",
       " '73',\n",
       " '45',\n",
       " '52',\n",
       " '39',\n",
       " '64',\n",
       " '41',\n",
       " '34',\n",
       " '29',\n",
       " '32',\n",
       " '96',\n",
       " '77',\n",
       " '56',\n",
       " '26',\n",
       " '19',\n",
       " '36',\n",
       " '49',\n",
       " '69',\n",
       " '42',\n",
       " '66',\n",
       " '62']"
      ]
     },
     "execution_count": 7,
     "metadata": {},
     "output_type": "execute_result"
    }
   ],
   "source": [
    "rules_dict['68']"
   ]
  },
  {
   "cell_type": "code",
   "execution_count": 8,
   "metadata": {},
   "outputs": [],
   "source": [
    "wrong_print_orders=[]\n",
    "correct_print_orders=[]\n",
    "for print_order in print_orders:\n",
    "    valid_print_order = True\n",
    "    for i, curr_page_number in enumerate(print_order):\n",
    "        if i<len(print_order) and valid_print_order:\n",
    "            pages_printed_after = print_order[i+1:]\n",
    "            for page in pages_printed_after:\n",
    "                if page in rules_dict[curr_page_number]:\n",
    "                    valid_print_order = False\n",
    "                    break        \n",
    "    if valid_print_order:\n",
    "        correct_print_orders += [print_order]\n",
    "    else:\n",
    "        wrong_print_orders += [print_order]    "
   ]
  },
  {
   "cell_type": "code",
   "execution_count": 22,
   "metadata": {},
   "outputs": [
    {
     "data": {
      "text/plain": [
       "5064"
      ]
     },
     "execution_count": 22,
     "metadata": {},
     "output_type": "execute_result"
    }
   ],
   "source": [
    "total_sum = 0\n",
    "for correct_order_print in correct_print_orders:\n",
    "    total_sum += int(correct_order_print[int(len(correct_order_print)/2)])\n",
    "total_sum"
   ]
  }
 ],
 "metadata": {
  "kernelspec": {
   "display_name": "Python 3",
   "language": "python",
   "name": "python3"
  },
  "language_info": {
   "codemirror_mode": {
    "name": "ipython",
    "version": 3
   },
   "file_extension": ".py",
   "mimetype": "text/x-python",
   "name": "python",
   "nbconvert_exporter": "python",
   "pygments_lexer": "ipython3",
   "version": "3.9.6"
  }
 },
 "nbformat": 4,
 "nbformat_minor": 2
}
