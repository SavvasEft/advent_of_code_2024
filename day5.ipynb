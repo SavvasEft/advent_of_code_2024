{
 "cells": [
  {
   "cell_type": "code",
   "execution_count": 1,
   "metadata": {},
   "outputs": [],
   "source": [
    "import sys\n",
    "import os\n",
    "\n",
    "current_dir = os.getcwd()\n",
    "parent_dir = os.path.dirname(current_dir)\n",
    "if parent_dir not in sys.path:\n",
    "    sys.path.insert(0, parent_dir)\n",
    "\n",
    "from get_data import get_data_from_url\n",
    "url = 'https://adventofcode.com/2024/day/5/input'\n",
    "\n",
    "raw_data = get_data_from_url(url)\n",
    "raw_data_lines = raw_data.splitlines()"
   ]
  },
  {
   "cell_type": "code",
   "execution_count": 2,
   "metadata": {},
   "outputs": [
    {
     "name": "stdout",
     "output_type": "stream",
     "text": [
      "['69|42', '95|73', '95|53', '18|16', '18|68']\n",
      "['33,53,78,14,77,82,32,49,39', '78,65,91,95,81,53,24,48,14,67,25,44,37,75,61,87,31,64,73', '56,96,45,41,49,72,36,73,68,42,29,62,34,16,33,69,66,32,77', '47,67,25,44,17,37,94,61,87,31,18,73,66,72,45,36,56,52,34,96,69', '95,23,48,14,67,75,87,73,45']\n"
     ]
    }
   ],
   "source": [
    "print (raw_data_lines[0:5])\n",
    "print (raw_data_lines[-5:])"
   ]
  },
  {
   "cell_type": "code",
   "execution_count": 3,
   "metadata": {},
   "outputs": [],
   "source": [
    "rules = []\n",
    "print_orders = []\n",
    "for line in raw_data_lines:\n",
    "    if '|' in line:\n",
    "        rules += [line]\n",
    "    elif len(line)>2:\n",
    "        print_orders += [line.split(',')]"
   ]
  },
  {
   "cell_type": "code",
   "execution_count": 4,
   "metadata": {},
   "outputs": [
    {
     "data": {
      "text/plain": [
       "['19', '33', '92', '65', '48']"
      ]
     },
     "execution_count": 4,
     "metadata": {},
     "output_type": "execute_result"
    }
   ],
   "source": [
    "print_orders[5]"
   ]
  },
  {
   "cell_type": "code",
   "execution_count": 5,
   "metadata": {},
   "outputs": [],
   "source": [
    "for line in rules: \n",
    "    if len(line)!=5:\n",
    "        print(line)       \n",
    "# prints nothing, so all lines have 5 characters\n",
    "\n",
    "for line in rules: \n",
    "    if '|' != line[2]:\n",
    "        print(line)\n",
    "# prints nothing, so all lines have the format: \n",
    "#   -> (2-digit number)|(2-digit number)"
   ]
  },
  {
   "cell_type": "code",
   "execution_count": 6,
   "metadata": {},
   "outputs": [],
   "source": [
    "# create a dictionary with all the page_no after the |\n",
    "pages_needing_another_page_first = []\n",
    "for line in rules: \n",
    "    pages_needing_another_page_first += [int(line[3:5])]\n",
    "pages_needing_another_page_first = list(set(pages_needing_another_page_first))\n",
    "pages_needing_another_page_first\n",
    "\n",
    "\n",
    "rules_dict = {}\n",
    "for page in pages_needing_another_page_first:\n",
    "    rules_dict[str(page)] = []\n",
    "    \n",
    "for line in rules:\n",
    "    rules_dict[str(line[3:5])]+=[line[0:2]]\n"
   ]
  },
  {
   "cell_type": "code",
   "execution_count": 7,
   "metadata": {},
   "outputs": [],
   "source": [
    "def separate_print_orders_to_correct_and_wrong(print_orders=print_orders):\n",
    "    wrong_print_orders=[]\n",
    "    correct_print_orders=[]\n",
    "    for print_order in print_orders:\n",
    "        valid_print_order = True\n",
    "        for i, curr_page_number in enumerate(print_order):\n",
    "            if i<len(print_order) and valid_print_order:\n",
    "                pages_printed_after = print_order[i+1:]\n",
    "                for page in pages_printed_after:\n",
    "                    if page in rules_dict[curr_page_number]:\n",
    "                        valid_print_order = False\n",
    "                        break        \n",
    "        if valid_print_order:\n",
    "            correct_print_orders += [print_order]\n",
    "        else:\n",
    "            wrong_print_orders += [print_order]\n",
    "            \n",
    "    return correct_print_orders, wrong_print_orders\n",
    "\n",
    "correct_print_orders, wrong_print_orders = separate_print_orders_to_correct_and_wrong()"
   ]
  },
  {
   "cell_type": "code",
   "execution_count": 16,
   "metadata": {},
   "outputs": [
    {
     "data": {
      "text/plain": [
       "5064"
      ]
     },
     "execution_count": 16,
     "metadata": {},
     "output_type": "execute_result"
    }
   ],
   "source": [
    "def evaluate_sum_of_print_orders(print_orders = correct_print_orders):\n",
    "    total_sum = 0\n",
    "    for correct_order_print in print_orders:\n",
    "        total_sum += int(correct_order_print[int(len(correct_order_print)/2)])\n",
    "    return total_sum\n",
    "\n",
    "evaluate_sum_of_print_orders()"
   ]
  },
  {
   "cell_type": "code",
   "execution_count": 9,
   "metadata": {},
   "outputs": [],
   "source": [
    "# part B:"
   ]
  },
  {
   "cell_type": "code",
   "execution_count": 10,
   "metadata": {},
   "outputs": [],
   "source": [
    "def order_is_correct(print_order):\n",
    "    valid_print_order = True\n",
    "    for i, curr_page_number in enumerate(print_order):\n",
    "        if i<len(print_order) and valid_print_order:\n",
    "            pages_printed_after = print_order[i+1:]\n",
    "            for page in pages_printed_after:\n",
    "                if page in rules_dict[curr_page_number]:\n",
    "                    valid_print_order = False\n",
    "                    break        \n",
    "    return valid_print_order"
   ]
  },
  {
   "cell_type": "code",
   "execution_count": 18,
   "metadata": {},
   "outputs": [
    {
     "data": {
      "text/plain": [
       "5152"
      ]
     },
     "execution_count": 18,
     "metadata": {},
     "output_type": "execute_result"
    }
   ],
   "source": [
    "#### make 1 correction only.\n",
    "a_list = wrong_print_orders[6]\n",
    "\n",
    "def make_1_corection(a_list):\n",
    "    cloned_list = a_list.copy()\n",
    "    for i, number in enumerate(a_list):\n",
    "        if number in rules_dict.keys():\n",
    "            if i<(len(a_list)-1):\n",
    "                followed_numbers = a_list[i+1:]\n",
    "            for followed_number in (followed_numbers):\n",
    "                if followed_number in rules_dict[number]:\n",
    "                    original_number_to_be_replaced = number                  \n",
    "                    number_to_replace_original_number = followed_number\n",
    "                    position_of_number_to_replace_original_number = a_list.index(followed_number)\n",
    "                    position_of_number_to_be_replaced = a_list.index(original_number_to_be_replaced)\n",
    "                    cloned_list[position_of_number_to_replace_original_number] = original_number_to_be_replaced\n",
    "                    cloned_list[position_of_number_to_be_replaced] = number_to_replace_original_number \n",
    "                    return cloned_list\n",
    "                \n",
    "\n",
    "def correct_list(a_list):\n",
    "    corected_list = make_1_corection(a_list=a_list)\n",
    "    rep = 0\n",
    "    lim = 400\n",
    "    while (not order_is_correct(corected_list)) and rep<lim:\n",
    "        corected_list = make_1_corection(corected_list)\n",
    "        rep+=1\n",
    "    return corected_list\n",
    "\n",
    "lista = correct_list(a_list)       \n",
    "order_is_correct(lista) \n",
    "\n",
    "\n",
    "\n",
    "corrected_orders = [correct_list(a_list) for a_list in wrong_print_orders]\n",
    "evaluate_sum_of_print_orders(corrected_orders)"
   ]
  }
 ],
 "metadata": {
  "kernelspec": {
   "display_name": "Python 3",
   "language": "python",
   "name": "python3"
  },
  "language_info": {
   "codemirror_mode": {
    "name": "ipython",
    "version": 3
   },
   "file_extension": ".py",
   "mimetype": "text/x-python",
   "name": "python",
   "nbconvert_exporter": "python",
   "pygments_lexer": "ipython3",
   "version": "3.9.6"
  }
 },
 "nbformat": 4,
 "nbformat_minor": 2
}
