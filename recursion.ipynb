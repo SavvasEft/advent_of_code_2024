{
 "cells": [
  {
   "cell_type": "markdown",
   "metadata": {},
   "source": [
    "# Recursion 101"
   ]
  },
  {
   "cell_type": "code",
   "execution_count": 1,
   "metadata": {},
   "outputs": [
    {
     "data": {
      "text/plain": [
       "15"
      ]
     },
     "execution_count": 1,
     "metadata": {},
     "output_type": "execute_result"
    }
   ],
   "source": [
    "a_list = [1,2,3,4,5]\n",
    "\n",
    "def calc_sum(a_list):\n",
    "    if len(a_list)==1:\n",
    "        return a_list[0]\n",
    "    else:\n",
    "        first_element = a_list[0]+a_list[1]\n",
    "        b_list = a_list[1:]\n",
    "        b_list[0]=first_element\n",
    "        return calc_sum(b_list)\n",
    "calc_sum(a_list)"
   ]
  },
  {
   "cell_type": "code",
   "execution_count": 19,
   "metadata": {},
   "outputs": [
    {
     "data": {
      "text/plain": [
       "'*'"
      ]
     },
     "execution_count": 19,
     "metadata": {},
     "output_type": "execute_result"
    }
   ],
   "source": [
    "#goal 0: find which op fits for a 2-element list\n",
    " \n",
    "def add_(a,b):\n",
    "    return a+b\n",
    "\n",
    "def mul_(a,b):\n",
    "    return a*b\n",
    "\n",
    "op_dic = {'+':add_,\n",
    "          '*':mul_}   \n",
    "\n",
    "\n",
    "def calc_result(c_list,op):   \n",
    "    if len(c_list)==1 and c_list[0]==answer:\n",
    "        return op\n",
    "    elif len(c_list)==1 and c_list[0]!=answer:\n",
    "        return None\n",
    "    elif len(c_list)>1:\n",
    "        first_element = op_dic[op](c_list[0],c_list[1])\n",
    "        b_list = c_list[1:]\n",
    "        b_list[0]=first_element\n",
    "        return calc_result(b_list,answer)\n",
    "\n",
    "\n",
    "def check_ops(a_list,answer,op_list=['+','*']):\n",
    "    for op in op_list:\n",
    "        if calc_result(a_list,op)==answer:\n",
    "            answer_ = op\n",
    "        else:\n",
    "            answer_ = None\n",
    "    return answer_\n",
    "\n",
    "a_list = [2,5]\n",
    "answer = 10    \n",
    "check_ops(a_list,answer)"
   ]
  },
  {
   "cell_type": "code",
   "execution_count": 7,
   "metadata": {},
   "outputs": [],
   "source": [
    "from itertools import chain\n",
    "from itertools import combinations\n",
    "\n",
    "list1 = ['1', '2']\n",
    "list2 = ['5', '6']\n",
    "for combo in combinations('+*',3):\n",
    "    print (combo)"
   ]
  },
  {
   "cell_type": "code",
   "execution_count": 9,
   "metadata": {},
   "outputs": [
    {
     "name": "stdout",
     "output_type": "stream",
     "text": [
      "('*', '+', '+')\n",
      "('*', '+', '+')\n",
      "('*', '+', '+')\n",
      "('*', '+', '+')\n",
      "('*', '+', '+')\n",
      "('*', '+', '+')\n",
      "('*', '+', '+')\n",
      "('*', '+', '+')\n",
      "('*', '+', '+')\n",
      "('*', '+', '+')\n",
      "('*', '+', '+')\n",
      "('*', '+', '+')\n",
      "('*', '+', '+')\n",
      "('*', '+', '+')\n",
      "('*', '+', '+')\n",
      "('*', '+', '+')\n",
      "('*', '+', '+')\n",
      "('*', '+', '+')\n",
      "('*', '+', '+')\n",
      "('*', '+', '+')\n",
      "('*', '+', '+')\n",
      "('*', '+', '+')\n",
      "('*', '+', '+')\n",
      "('*', '+', '+')\n",
      "('*', '+', '+')\n",
      "('*', '+', '+')\n",
      "('*', '+', '+')\n"
     ]
    }
   ],
   "source": [
    "from itertools import product\n",
    "\n",
    "for op from op"
   ]
  },
  {
   "cell_type": "code",
   "execution_count": 12,
   "metadata": {},
   "outputs": [
    {
     "name": "stdout",
     "output_type": "stream",
     "text": [
      "['aaa']\n"
     ]
    }
   ],
   "source": [
    "options = ['a','b']\n",
    "length = 3\n",
    "a_list = [options[0]*length]\n",
    "print (a_list)\n",
    "\n",
    "                    \n"
   ]
  },
  {
   "cell_type": "code",
   "execution_count": 15,
   "metadata": {},
   "outputs": [
    {
     "name": "stdout",
     "output_type": "stream",
     "text": [
      "('*', '*', '*')\n",
      "('*', '*', '*')\n",
      "('*', '*', '*')\n",
      "('*', '*', '*')\n",
      "('*', '*', '*')\n",
      "('*', '*', '*')\n",
      "('*', '*', '+')\n",
      "('*', '+', '*')\n",
      "('*', '*', '+')\n",
      "('*', '+', '*')\n",
      "('+', '*', '*')\n",
      "('+', '*', '*')\n",
      "('*', '+', '+')\n",
      "('*', '+', '+')\n",
      "('+', '*', '+')\n",
      "('+', '+', '*')\n",
      "('+', '*', '+')\n",
      "('+', '+', '*')\n",
      "('+', '+', '+')\n",
      "('+', '+', '+')\n",
      "('+', '+', '+')\n",
      "('+', '+', '+')\n",
      "('+', '+', '+')\n",
      "('+', '+', '+')\n"
     ]
    }
   ],
   "source": [
    "from itertools import permutations\n",
    "num = 3\n",
    "comb = ['*','+']\n",
    "for i in range (num+1):\n",
    "    l1 = comb[0]*(num-i)\n",
    "    l2 = comb[1]*(i)\n",
    "    l=l1+l2\n",
    "    for combo in permutations(l, num):\n",
    "        \n",
    "        print(combo)"
   ]
  },
  {
   "cell_type": "code",
   "execution_count": 34,
   "metadata": {},
   "outputs": [],
   "source": [
    "from itertools import product\n",
    "\n",
    "\n",
    "def add_(a,b):\n",
    "    return a+b\n",
    "\n",
    "def mul_(a,b):\n",
    "    return a*b\n",
    "\n",
    "op_dic = {'+':add_,\n",
    "          '*':mul_}\n",
    "\n",
    "\n",
    "a_list = [1,2,3,3]\n",
    "def get_all_op_combinations(list_length):\n",
    "    num_of_operators = len(a_list)-1\n",
    "    return list(product(['+', '*'], repeat=num_of_operators))\n",
    "\n",
    "op_list = ['+', '*']\n",
    "\n",
    "def perform_function_between_elements_and_op_list(a_list, op_list):\n",
    "    b_list = a_list[1:]\n",
    "    for i, op in enumerate(op_list):\n",
    "        result = op_dic[op](a_list[0], a_list[1])\n",
    "        b_list[0]=result\n",
    "        if len(b_list)==1:\n",
    "            return b_list\n",
    "        b_op_list = op_list[1:]\n",
    "        return perform_function_between_elements_and_op_list(b_list,b_op_list)"
   ]
  },
  {
   "cell_type": "code",
   "execution_count": 36,
   "metadata": {},
   "outputs": [
    {
     "data": {
      "text/plain": [
       "[27]"
      ]
     },
     "execution_count": 36,
     "metadata": {},
     "output_type": "execute_result"
    }
   ],
   "source": [
    "perform_function_between_elements_and_op_list(a_list, op_list)"
   ]
  },
  {
   "cell_type": "code",
   "execution_count": null,
   "metadata": {},
   "outputs": [],
   "source": []
  }
 ],
 "metadata": {
  "kernelspec": {
   "display_name": "Python 3",
   "language": "python",
   "name": "python3"
  },
  "language_info": {
   "codemirror_mode": {
    "name": "ipython",
    "version": 3
   },
   "file_extension": ".py",
   "mimetype": "text/x-python",
   "name": "python",
   "nbconvert_exporter": "python",
   "pygments_lexer": "ipython3",
   "version": "3.9.6"
  }
 },
 "nbformat": 4,
 "nbformat_minor": 2
}
