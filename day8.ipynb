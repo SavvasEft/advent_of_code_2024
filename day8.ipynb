{
 "cells": [
  {
   "cell_type": "code",
   "execution_count": 1,
   "metadata": {},
   "outputs": [],
   "source": [
    "import sys\n",
    "import os\n",
    "import copy\n",
    "\n",
    "import numpy as np \n",
    "\n",
    "current_dir = os.getcwd()\n",
    "parent_dir = os.path.dirname(current_dir)\n",
    "if parent_dir not in sys.path:\n",
    "    sys.path.insert(0, parent_dir)\n",
    "\n",
    "from get_data import get_data_from_url\n",
    "url = 'https://adventofcode.com/2024/day/8/input'\n",
    "\n",
    "raw_data = get_data_from_url(url)\n",
    "raw_data_list_of_strings = raw_data.splitlines()\n",
    "raw_data_list_of_lists = [a_string.split(' ') for a_string in raw_data_list_of_strings]"
   ]
  },
  {
   "cell_type": "code",
   "execution_count": 2,
   "metadata": {},
   "outputs": [],
   "source": [
    "single_string_list_of_lists = []\n",
    "for a_list in raw_data_list_of_lists:\n",
    "    single_string_list_of_lists+=[list(a_list[0])]\n",
    "antennas_map = np.array(single_string_list_of_lists)\n",
    "frequencies = np.unique(antennas_map).tolist()\n",
    "frequencies.remove('.')"
   ]
  },
  {
   "cell_type": "code",
   "execution_count": 3,
   "metadata": {},
   "outputs": [
    {
     "name": "stdout",
     "output_type": "stream",
     "text": [
      "222\n"
     ]
    }
   ],
   "source": [
    "all_node_positions = np.array([[-1,-1]])\n",
    "for k,freq in enumerate(frequencies):\n",
    "    freq_antenas_positions = np.argwhere(antennas_map  == freq)\n",
    "    doubled_freq_antenas_positions = freq_antenas_positions*2\n",
    "    for i, an_array in enumerate(freq_antenas_positions):\n",
    "        rest_of_doubled_positions = np.delete(doubled_freq_antenas_positions, i, 0)\n",
    "        node_positions = rest_of_doubled_positions - an_array\n",
    "        all_node_positions = np.append(all_node_positions, node_positions, axis=0)\n",
    "\n",
    "all_node_positions = np.unique(all_node_positions, axis=0)\n",
    "\n",
    "condition = (all_node_positions[:, 0] >=0) & (all_node_positions[:, 1] >= 0) & \\\n",
    "            (all_node_positions[:, 0] < antennas_map.shape[0]) & (all_node_positions[:, 1] < antennas_map.shape[1])\n",
    "\n",
    "antenas_in_map = all_node_positions[condition]\n",
    "result = antenas_in_map.shape[0]\n",
    "print (result)"
   ]
  },
  {
   "cell_type": "markdown",
   "metadata": {},
   "source": [
    "# B part"
   ]
  },
  {
   "cell_type": "code",
   "execution_count": 4,
   "metadata": {},
   "outputs": [
    {
     "name": "stdout",
     "output_type": "stream",
     "text": [
      "884\n"
     ]
    }
   ],
   "source": [
    "all_node_positions = np.array([[-1,-1]])\n",
    "for k,freq in enumerate(frequencies):\n",
    "    freq_antenas_positions = np.argwhere(antennas_map  == freq)\n",
    "    for i, an_array in enumerate(freq_antenas_positions):\n",
    "        diff_array = np.delete(freq_antenas_positions, i, 0)\n",
    "        diff_array = an_array - diff_array\n",
    "        \n",
    "        #next, calculate minimum element in the same line:\n",
    "        for m,another_array in enumerate(diff_array):\n",
    "            for l in [p for p in range (50,0,-1)]:\n",
    "                if (another_array[0]%l==0) and (another_array[1]%l==0):\n",
    "                    diff_array[m]=another_array/l\n",
    "                    break\n",
    "        \n",
    "        #next calculate all multiples in the same line as an array\n",
    "        for x in range (1,50):\n",
    "            node_position = an_array+x*diff_array\n",
    "            node_position1 = an_array-x*diff_array # this is needed, to also include possible nodes in the middle\n",
    "            all_node_positions = np.append(all_node_positions, node_position, axis=0)\n",
    "            all_node_positions = np.append(all_node_positions, node_position1, axis=0)\n",
    "all_node_positions = np.unique(all_node_positions, axis=0)\n",
    "\n",
    "condition = (all_node_positions[:, 0] >=0) & (all_node_positions[:, 1] >= 0) & \\\n",
    "            (all_node_positions[:, 0] < antennas_map.shape[0]) & (all_node_positions[:, 1] < antennas_map.shape[1])\n",
    "\n",
    "nodes_in_map = all_node_positions[condition]\n",
    "result = nodes_in_map.shape[0]\n",
    "print (result)"
   ]
  }
 ],
 "metadata": {
  "kernelspec": {
   "display_name": "Python 3",
   "language": "python",
   "name": "python3"
  },
  "language_info": {
   "codemirror_mode": {
    "name": "ipython",
    "version": 3
   },
   "file_extension": ".py",
   "mimetype": "text/x-python",
   "name": "python",
   "nbconvert_exporter": "python",
   "pygments_lexer": "ipython3",
   "version": "3.9.6"
  }
 },
 "nbformat": 4,
 "nbformat_minor": 2
}
