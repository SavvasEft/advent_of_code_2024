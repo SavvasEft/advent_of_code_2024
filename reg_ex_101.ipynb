{
 "cells": [
  {
   "cell_type": "markdown",
   "metadata": {
    "vscode": {
     "languageId": "plaintext"
    }
   },
   "source": [
    "Patterns in regex:\n",
    "- . : Matches any single character except newline\n",
    "- ^ : Matches the start of a string\n",
    "- $ : Matches the end of a string\n",
    "- \\* : Matches zero or more repetitions\n",
    "- \\+ : Matches one or more repetitions\n",
    "- ? : Matches zero or one repetition\n",
    "- \\ : Escapes special characters"
   ]
  },
  {
   "cell_type": "code",
   "execution_count": 4,
   "metadata": {},
   "outputs": [
    {
     "name": "stdout",
     "output_type": "stream",
     "text": [
      "Match found!\n",
      "Python\n"
     ]
    }
   ],
   "source": [
    "import re\n",
    "\n",
    "pattern = r\"Python\"\n",
    "text = \"I love Python programming\"\n",
    "match = re.search(pattern, text)\n",
    "if match:\n",
    "    print(\"Match found!\")\n",
    "    print (match.group())"
   ]
  },
  {
   "cell_type": "code",
   "execution_count": 19,
   "metadata": {},
   "outputs": [
    {
     "name": "stdout",
     "output_type": "stream",
     "text": [
      " Pyth\n",
      "[' Pyth']\n"
     ]
    }
   ],
   "source": [
    "# pattern = r\"yt\\w+\"\n",
    "pattern = r'.Pyt.'\n",
    "text = \"Python is powerful, Python that is, or maybe python. \"\n",
    "match = re.search(pattern, text)\n",
    "all_matches = re.findall(pattern, text)\n",
    "if match:\n",
    "    print(match.group())\n",
    "    print(all_matches)     "
   ]
  },
  {
   "cell_type": "code",
   "execution_count": 22,
   "metadata": {},
   "outputs": [
    {
     "name": "stdout",
     "output_type": "stream",
     "text": [
      "['ac', 'abc', 'abbc', 'abbbc']\n"
     ]
    }
   ],
   "source": [
    "pattern = r\"ab*c\"\n",
    "text = \"ac abc abbc abbbc\"\n",
    "matches = re.findall(pattern, text)\n",
    "print(matches)  # Output: ['ac', 'abc', 'abbc', 'abbbc']"
   ]
  },
  {
   "cell_type": "code",
   "execution_count": 23,
   "metadata": {},
   "outputs": [
    {
     "name": "stdout",
     "output_type": "stream",
     "text": [
      "['$50', '$100']\n"
     ]
    }
   ],
   "source": [
    "pattern = r\"\\$\\d+\"\n",
    "text = \"The price is $50, not $100.\"\n",
    "matches = re.findall(pattern, text)\n",
    "print(matches)  # Output: ['$50', '$100']"
   ]
  },
  {
   "cell_type": "code",
   "execution_count": null,
   "metadata": {},
   "outputs": [],
   "source": []
  }
 ],
 "metadata": {
  "kernelspec": {
   "display_name": "Python 3",
   "language": "python",
   "name": "python3"
  },
  "language_info": {
   "codemirror_mode": {
    "name": "ipython",
    "version": 3
   },
   "file_extension": ".py",
   "mimetype": "text/x-python",
   "name": "python",
   "nbconvert_exporter": "python",
   "pygments_lexer": "ipython3",
   "version": "3.9.6"
  }
 },
 "nbformat": 4,
 "nbformat_minor": 2
}
